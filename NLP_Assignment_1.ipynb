{
  "nbformat": 4,
  "nbformat_minor": 0,
  "metadata": {
    "colab": {
      "provenance": [],
      "include_colab_link": true
    },
    "kernelspec": {
      "name": "python3",
      "display_name": "Python 3"
    },
    "language_info": {
      "name": "python"
    }
  },
  "cells": [
    {
      "cell_type": "markdown",
      "metadata": {
        "id": "view-in-github",
        "colab_type": "text"
      },
      "source": [
        "<a href=\"https://colab.research.google.com/github/faezehhyd/NLP_Assignment_1/blob/main/NLP_Assignment_1.ipynb\" target=\"_parent\"><img src=\"https://colab.research.google.com/assets/colab-badge.svg\" alt=\"Open In Colab\"/></a>"
      ]
    },
    {
      "cell_type": "code",
      "execution_count": 1,
      "metadata": {
        "id": "NyaNRZkFjGzW"
      },
      "outputs": [],
      "source": [
        "import nltk\n",
        "from nltk import classify\n",
        "from nltk import NaiveBayesClassifier\n",
        "from nltk.corpus import stopwords\n",
        "from sklearn.model_selection import train_test_split\n",
        "from nltk.tokenize import word_tokenize\n",
        "from sklearn.feature_extraction.text import CountVectorizer, TfidfVectorizer\n",
        "from nltk.stem import PorterStemmer, SnowballStemmer, WordNetLemmatizer\n",
        "from nltk import NaiveBayesClassifier\n",
        "from sklearn.linear_model import LogisticRegression\n",
        "from sklearn.metrics import accuracy_score, classification_report\n"
      ]
    },
    {
      "cell_type": "code",
      "source": [
        "nltk.download('wordnet')\n",
        "nltk.download('punkt')\n",
        "nltk.download('stopwords')"
      ],
      "metadata": {
        "colab": {
          "base_uri": "https://localhost:8080/"
        },
        "id": "BCcV4zDSjVzK",
        "outputId": "47bc0aa4-f705-4fa1-fd47-46ad17041272"
      },
      "execution_count": 2,
      "outputs": [
        {
          "output_type": "stream",
          "name": "stderr",
          "text": [
            "[nltk_data] Downloading package wordnet to /root/nltk_data...\n",
            "[nltk_data] Downloading package punkt to /root/nltk_data...\n",
            "[nltk_data]   Unzipping tokenizers/punkt.zip.\n",
            "[nltk_data] Downloading package stopwords to /root/nltk_data...\n",
            "[nltk_data]   Unzipping corpora/stopwords.zip.\n"
          ]
        },
        {
          "output_type": "execute_result",
          "data": {
            "text/plain": [
              "True"
            ]
          },
          "metadata": {},
          "execution_count": 2
        }
      ]
    },
    {
      "cell_type": "code",
      "source": [
        "!pip install wikipedia-api"
      ],
      "metadata": {
        "colab": {
          "base_uri": "https://localhost:8080/"
        },
        "id": "jan8nJ5GjU-R",
        "outputId": "5376f013-7f48-425a-b7f6-57e243ac8c44"
      },
      "execution_count": 3,
      "outputs": [
        {
          "output_type": "stream",
          "name": "stdout",
          "text": [
            "Collecting wikipedia-api\n",
            "  Downloading Wikipedia_API-0.6.0-py3-none-any.whl (14 kB)\n",
            "Requirement already satisfied: requests in /usr/local/lib/python3.10/dist-packages (from wikipedia-api) (2.31.0)\n",
            "Requirement already satisfied: charset-normalizer<4,>=2 in /usr/local/lib/python3.10/dist-packages (from requests->wikipedia-api) (3.3.2)\n",
            "Requirement already satisfied: idna<4,>=2.5 in /usr/local/lib/python3.10/dist-packages (from requests->wikipedia-api) (3.6)\n",
            "Requirement already satisfied: urllib3<3,>=1.21.1 in /usr/local/lib/python3.10/dist-packages (from requests->wikipedia-api) (2.0.7)\n",
            "Requirement already satisfied: certifi>=2017.4.17 in /usr/local/lib/python3.10/dist-packages (from requests->wikipedia-api) (2024.2.2)\n",
            "Installing collected packages: wikipedia-api\n",
            "Successfully installed wikipedia-api-0.6.0\n"
          ]
        }
      ]
    },
    {
      "cell_type": "code",
      "source": [
        "# Keywords for each category\n",
        "category1_keywords = [\"region\", \"terrain\", \"map\", \"nation\", \"urban\"]\n",
        "category2_keywords = [\"radio\", \"frequency\", \"bandwidth\", \"satellite\", \"mobile\", \"sector\", \"network\"]\n",
        "\n",
        "# 'Geographic' and 'Non-geographic'\n",
        "Geo_category = \"Geographical\"\n",
        "Nongeo_category = \"Nongeographical\""
      ],
      "metadata": {
        "id": "IllkLCsjkCoC"
      },
      "execution_count": 4,
      "outputs": []
    },
    {
      "cell_type": "code",
      "source": [
        "import wikipediaapi\n",
        "\n",
        "def retrieve_wikipedia_content_with_markers(subject, keywords):\n",
        "    # A Wikipedia API object creation\n",
        "    wiki_instance = wikipediaapi.Wikipedia('en', extract_format=wikipediaapi.ExtractFormat.WIKI, headers={'User-Agent': 'Faezeh'})\n",
        "\n",
        "    # Assigning  Wikipedia page based on a subject\n",
        "    page = wiki_instance.page(subject)\n",
        "\n",
        "    if page.exists():\n",
        "        # Retrieve the text content of the page\n",
        "        content = page.text\n",
        "\n",
        "        # Identify markers or keywords in the text\n",
        "        markers = [kw for kw in keywords if kw.lower() in content.lower()]\n",
        "\n",
        "        return content, markers\n",
        "    else:\n",
        "        print(f\"Page for subject '{subject}' does not exist.\")\n",
        "        return None, None\n",
        "\n",
        "# Get the content of Wikipedia page with markers\n",
        "topic = \"telecommunication\"\n",
        "text_content, markers_found = retrieve_wikipedia_content_with_markers(topic, category2_keywords)\n",
        "\n",
        "if text_content:\n",
        "    print(f\"Text content for '{topic}':\")\n",
        "    print(\"Markers Found:\", markers_found)\n"
      ],
      "metadata": {
        "colab": {
          "base_uri": "https://localhost:8080/"
        },
        "id": "aqtpV3p3kHuf",
        "outputId": "7195e829-14ca-4999-85ae-a60fdc532b37"
      },
      "execution_count": 5,
      "outputs": [
        {
          "output_type": "stream",
          "name": "stdout",
          "text": [
            "Text content for 'telecommunication':\n",
            "Markers Found: ['radio', 'frequency', 'bandwidth', 'satellite', 'mobile', 'sector', 'network']\n"
          ]
        }
      ]
    },
    {
      "cell_type": "code",
      "source": [
        "def process_text_with_annotations(input_text, input_annotations, stop_words=None, stemmer=None, lemmatizer=None):\n",
        "    # Tokenize the input text\n",
        "    words = word_tokenize(input_text)\n",
        "\n",
        "    # Utilize Snowball stop words if available; otherwise, default to using NLTK's standard English stop words\n",
        "    stop_words = stop_words or set(stopwords.words('english'))\n",
        "\n",
        "    # Eliminate stop words\n",
        "    filtered_words = [word for word in words if word.lower() not in stop_words]\n",
        "\n",
        "    # If a Snowball stemmer is available, utilize it; otherwise, using the Porter Stemmer\n",
        "    stemmer = stemmer or PorterStemmer()\n",
        "    stemmed_words = [stemmer.stem(word) for word in filtered_words]\n",
        "\n",
        "    # WordNet Lemmatizer available, then use it, if not use a basic one\n",
        "    lemmatizer = lemmatizer or WordNetLemmatizer()\n",
        "    lemmatized_words = [lemmatizer.lemmatize(word) for word in stemmed_words]\n",
        "\n",
        "    # Combine the processed words into a single string\n",
        "    processed_text = ' '.join(lemmatized_words)\n",
        "\n",
        "    # Integrate annotations into the processed text\n",
        "    processed_text += ' '.join(input_annotations)\n",
        "\n",
        "    return processed_text\n",
        "\n",
        "\n",
        "# examples\n",
        "subject = \"telecommunication\"\n",
        "\n",
        "# Get Wikipedia content page with markers\n",
        "text_content, markers_found = retrieve_wikipedia_content_with_markers(subject, category2_keywords)\n",
        "\n",
        "if text_content:\n",
        "    print(f\"Text content for '{subject}':\")\n",
        "    print(\"Markers Found:\", markers_found)\n",
        "\n",
        "    # Process the text with different configurations\n",
        "    processed_text_bag_of_words = text_content.lower()\n",
        "    processed_text_snowball = process_text_with_annotations(text_content, markers_found, stop_words=set(stopwords.words('english')), stemmer=SnowballStemmer('english'))\n",
        "    processed_text_lemmatized = process_text_with_annotations(text_content, markers_found, stop_words=set(stopwords.words('english')), lemmatizer=WordNetLemmatizer())\n"
      ],
      "metadata": {
        "colab": {
          "base_uri": "https://localhost:8080/"
        },
        "id": "E1Lg5xtAkmIy",
        "outputId": "ae38dd03-ebf0-4936-d0a0-376763b6ddad"
      },
      "execution_count": 6,
      "outputs": [
        {
          "output_type": "stream",
          "name": "stdout",
          "text": [
            "Text content for 'telecommunication':\n",
            "Markers Found: ['radio', 'frequency', 'bandwidth', 'satellite', 'mobile', 'sector', 'network']\n"
          ]
        }
      ]
    },
    {
      "cell_type": "code",
      "source": [
        "snowball_stemmer = SnowballStemmer('english')\n",
        "\n",
        "\n",
        "# Training data for Logistic Regression with pre-processing\n",
        "training_data_logistic_preprocessed_custom = [\n",
        "    (process_text_with_annotations(retrieve_wikipedia_content_with_markers(\"Germany\", category1_keywords)[0], category1_keywords, stop_words=set(stopwords.words('english')),\n",
        "                                                                            stemmer=snowball_stemmer).lower(), Geo_category),\n",
        "    (process_text_with_annotations(retrieve_wikipedia_content_with_markers(\"telecommunication\", category2_keywords)[0], category2_keywords, stop_words=set(stopwords.words('english')),\n",
        "                                                                            stemmer=snowball_stemmer).lower(), Nongeo_category),\n",
        "]\n",
        "\n",
        "\n",
        "# Tokenizer function for preprocessed text\n",
        "def get_words_in_preprocessed_text_logistic_custom(text):\n",
        "    return word_tokenize(text)\n",
        "\n",
        "# Function for extracting features from preprocessed text\n",
        "def extract_features_preprocessed_logistic_custom(text):\n",
        "    return ' '.join(get_words_in_preprocessed_text_logistic_custom(text))\n",
        "\n",
        "# Prepare the training set for Logistic Regression _ preprocessing\n",
        "training_set_logistic_preprocessed_custom = [(extract_features_preprocessed_logistic_custom(text), label) for (text, label) in training_data_logistic_preprocessed_custom]\n",
        "\n",
        "# Create TF-IDF vectors from the training set for Logistic Regression_ pre-processing\n",
        "from sklearn.feature_extraction.text import TfidfVectorizer\n",
        "from sklearn.linear_model import LogisticRegression\n",
        "\n",
        "# Separate features (X) and labels (y) for Logistic Regression with pre-processing\n",
        "X_train_logistic_preprocessed_custom = [text for (text, _) in training_set_logistic_preprocessed_custom]\n",
        "y_train_logistic_preprocessed_custom = [label for (_, label) in training_set_logistic_preprocessed_custom]\n",
        "\n",
        "# Create TF-IDF vectors from the training set for Logistic Regression with pre-processing\n",
        "tfidf_vectorizer_logistic_preprocessed_custom = TfidfVectorizer()\n",
        "X_train_tfidf_logistic_preprocessed_custom = tfidf_vectorizer_logistic_preprocessed_custom.fit_transform(X_train_logistic_preprocessed_custom)\n",
        "\n",
        "# Train the Logistic Regression classifier_ pre-processing\n",
        "logistic_regression_classifier_preprocessed_custom = LogisticRegression()\n",
        "logistic_regression_classifier_preprocessed_custom.fit(X_train_tfidf_logistic_preprocessed_custom, y_train_logistic_preprocessed_custom)\n",
        "\n",
        "\n",
        "# Usage for Logistic Regression with pre-processing\n",
        "test_text_logistic_preprocessed_custom = process_text_with_annotations(retrieve_wikipedia_content_with_markers(\"Germany\", category1_keywords)[0], category1_keywords, stop_words=set(stopwords.words('english')), stemmer=snowball_stemmer).lower()\n",
        "test_features_logistic_preprocessed_custom = tfidf_vectorizer_logistic_preprocessed_custom.transform([extract_features_preprocessed_logistic_custom(test_text_logistic_preprocessed_custom)])\n",
        "classification_logistic_preprocessed_custom = logistic_regression_classifier_preprocessed_custom.predict(test_features_logistic_preprocessed_custom)\n",
        "\n",
        "print(f\"\\nclass prediction for Logistic Regression with pre-processing: {classification_logistic_preprocessed_custom[0]} \")\n",
        "\n",
        "test_text_logistic_preprocessed_custom = process_text_with_annotations(retrieve_wikipedia_content_with_markers(\"telecommunication\", category2_keywords)[0], category2_keywords, stop_words=set(stopwords.words('english')), stemmer=snowball_stemmer).lower()\n",
        "test_features_logistic_preprocessed_custom = tfidf_vectorizer_logistic_preprocessed_custom.transform([extract_features_preprocessed_logistic_custom(test_text_logistic_preprocessed_custom)])\n",
        "classification_logistic_preprocessed_custom = logistic_regression_classifier_preprocessed_custom.predict(test_features_logistic_preprocessed_custom)\n",
        "\n",
        "print(f\"class prediction for Logistic Regression with pre-processing: {classification_logistic_preprocessed_custom[0]} \")\n",
        "\n",
        "# Training data for Logistic Regression without pre-processing\n",
        "training_data_logistic_raw_custom = [\n",
        "    (retrieve_wikipedia_content_with_markers(\"Germany\", category1_keywords)[0].lower(), Geo_category),\n",
        "    (retrieve_wikipedia_content_with_markers(\"telecommunication\", category2_keywords)[0].lower(), Nongeo_category),\n",
        "]\n",
        "\n",
        "# Tokenizer function for raw text\n",
        "def get_words_in_raw_text_logistic_custom(text):\n",
        "    return word_tokenize(text)\n",
        "\n",
        "# Feature extraction function for raw text\n",
        "def extract_features_raw_logistic_custom(text):\n",
        "    return ' '.join(get_words_in_raw_text_logistic_custom(text))\n",
        "\n",
        "# Prepare the training set for Logistic Regression without pre-processing\n",
        "training_set_logistic_raw_custom = [(extract_features_raw_logistic_custom(text), label) for (text, label) in training_data_logistic_raw_custom]\n",
        "\n",
        "# Create TF-IDF vectors from the training set for Logistic Regression without pre-processing\n",
        "X_train_logistic_raw_custom = [text for (text, _) in training_set_logistic_raw_custom]\n",
        "y_train_logistic_raw_custom = [label for (_, label) in training_set_logistic_raw_custom]\n",
        "\n",
        "tfidf_vectorizer_logistic_raw_custom = TfidfVectorizer()\n",
        "X_train_tfidf_logistic_raw_custom = tfidf_vectorizer_logistic_raw_custom.fit_transform(X_train_logistic_raw_custom)\n",
        "\n",
        "# Train the Logistic Regression classifier without pre-processing\n",
        "logistic_regression_classifier_raw_custom = LogisticRegression()\n",
        "logistic_regression_classifier_raw_custom.fit(X_train_tfidf_logistic_raw_custom, y_train_logistic_raw_custom)\n",
        "\n",
        "# Usage for Logistic Regression without pre-processing\n",
        "test_text_logistic_raw_custom = retrieve_wikipedia_content_with_markers(\"Germany\", category1_keywords)[0].lower()\n",
        "test_features_logistic_raw_custom = tfidf_vectorizer_logistic_raw_custom.transform([extract_features_raw_logistic_custom(test_text_logistic_raw_custom)])\n",
        "classification_logistic_raw_custom = logistic_regression_classifier_raw_custom.predict(test_features_logistic_raw_custom)\n",
        "\n",
        "print(f\"\\nclass Prediction for Logistic Regression without pre-processing: {classification_logistic_raw_custom[0]} \")\n",
        "\n",
        "test_text_logistic_raw_custom = retrieve_wikipedia_content_with_markers(\"Data Science\", category2_keywords)[0].lower()\n",
        "test_features_logistic_raw_custom = tfidf_vectorizer_logistic_raw_custom.transform([extract_features_raw_logistic_custom(test_text_logistic_raw_custom)])\n",
        "classification_logistic_raw_custom = logistic_regression_classifier_raw_custom.predict(test_features_logistic_raw_custom)\n",
        "\n",
        "print(f\"class Prediction for Logistic Regression without pre-processing: {classification_logistic_raw_custom[0]} \")\n"
      ],
      "metadata": {
        "colab": {
          "base_uri": "https://localhost:8080/"
        },
        "id": "bZwBYhZlZUdD",
        "outputId": "179fbd59-74db-4a6b-d2ca-b660a206edad"
      },
      "execution_count": 7,
      "outputs": [
        {
          "output_type": "stream",
          "name": "stdout",
          "text": [
            "\n",
            "class prediction for Logistic Regression with pre-processing: Geographical \n",
            "class prediction for Logistic Regression with pre-processing: Nongeographical \n",
            "\n",
            "class Prediction for Logistic Regression without pre-processing: Geographical \n",
            "class Prediction for Logistic Regression without pre-processing: Nongeographical \n"
          ]
        }
      ]
    },
    {
      "cell_type": "code",
      "source": [
        "'''Naive Bayes without Pre-processing'''\n",
        "\n",
        "# Training data for Naive Bayes on Bag of Words without pre-processing\n",
        "training_data_bow_raw_custom = [\n",
        "    (retrieve_wikipedia_content_with_markers(\"Germany\", Geo_category)[0].lower(), Geo_category),\n",
        "    (retrieve_wikipedia_content_with_markers(\"telecommunication\", Nongeo_category)[0].lower(), Nongeo_category),\n",
        "]\n",
        "\n",
        "# Tokenizer function for raw text\n",
        "def get_words_in_raw_text_bow_custom(text):\n",
        "    return word_tokenize(text)\n",
        "\n",
        "# Feature extraction function for raw text\n",
        "def extract_features_raw_bow_custom(text):\n",
        "    return {word: True for word in get_words_in_raw_text_bow_custom(text)}\n",
        "\n",
        "# Prepare the training set without pre-processing for Bag of Words\n",
        "training_set_bow_raw_custom = [(extract_features_raw_bow_custom(text), label) for (text, label) in training_data_bow_raw_custom]\n",
        "\n",
        "# Train the Naive Bayes classifier without pre-processing for Bag of Words\n",
        "naive_bayes_classifier_bow_raw_custom = NaiveBayesClassifier.train(training_set_bow_raw_custom)\n",
        "\n",
        "# Usage without pre-processing for Bag of Words\n",
        "test_text_bow_raw_custom = retrieve_wikipedia_content_with_markers(\"Germany\", Geo_category)[0].lower()\n",
        "test_features_bow_raw_custom = extract_features_raw_bow_custom(test_text_bow_raw_custom)\n",
        "classification_bow_raw_custom = naive_bayes_classifier_bow_raw_custom.classify(test_features_bow_raw_custom)\n",
        "\n",
        "print(f\"\\nclass prediction for the test text using Bag of Words without pre-processing: {classification_bow_raw_custom}\")\n",
        "\n",
        "\n",
        "\n",
        "test_text_bow_raw_custom = retrieve_wikipedia_content_with_markers(\"telecommunication\", Nongeo_category)[0].lower()\n",
        "test_features_bow_raw_custom = extract_features_raw_bow_custom(test_text_bow_raw_custom)\n",
        "classification_bow_raw_custom = naive_bayes_classifier_bow_raw_custom.classify(test_features_bow_raw_custom)\n",
        "\n",
        "print(f\"\\nclass prediction for the test text using Bag of Words without pre-processing: {classification_bow_raw_custom}\")\n"
      ],
      "metadata": {
        "colab": {
          "base_uri": "https://localhost:8080/"
        },
        "id": "VI18-xfNkH0g",
        "outputId": "98d637a0-311f-4063-9333-0d19690f8036"
      },
      "execution_count": 8,
      "outputs": [
        {
          "output_type": "stream",
          "name": "stdout",
          "text": [
            "\n",
            "class prediction for the test text using Bag of Words without pre-processing: Geographical\n",
            "\n",
            "class prediction for the test text using Bag of Words without pre-processing: Nongeographical\n"
          ]
        }
      ]
    },
    {
      "cell_type": "code",
      "source": [
        "'''Naive Bayes with Pre-processing'''\n",
        "\n",
        "snowball_stemmer = SnowballStemmer('english')\n",
        "\n",
        "# Training data for Naive Bayes with Snowball stop words and Porter Stemmer\n",
        "training_data_bow_snowball_custom = [\n",
        "    (process_text_with_annotations(retrieve_wikipedia_content_with_markers(\"Germany\", category1_keywords)[0], category1_keywords, stop_words=set(stopwords.words('english')),\n",
        "                                   stemmer=snowball_stemmer).lower(), Geo_category),\n",
        "    (process_text_with_annotations(retrieve_wikipedia_content_with_markers(\"telecommunication\", category2_keywords)[0], category2_keywords, stop_words=set(stopwords.words('english')),\n",
        "                                   stemmer=snowball_stemmer).lower(), Nongeo_category),\n",
        "]\n",
        "\n",
        "\n",
        "# Tokenizer function for preprocessed text\n",
        "def get_words_in_preprocessed_text_bow_custom(text):\n",
        "    return word_tokenize(text)\n",
        "\n",
        "# Feature extraction function for preprocessed text\n",
        "def extract_features_preprocessed_bow_custom(text):\n",
        "    return {word: True for word in get_words_in_preprocessed_text_bow_custom(text)}\n",
        "\n",
        "# Prepare the training set with Snowball stop words and Porter Stemmer for Bag of Words\n",
        "training_set_bow_snowball_custom = [(extract_features_preprocessed_bow_custom(text), label) for (text, label) in training_data_bow_snowball_custom]\n",
        "\n",
        "# Train the Naive Bayes classifier with Snowball stop words and Porter Stemmer for Bag of Words\n",
        "naive_bayes_classifier_bow_snowball_custom = NaiveBayesClassifier.train(training_set_bow_snowball_custom)\n",
        "\n",
        "# Snowball stop words and Porter Stemmer for Bag of Words\n",
        "test_text_bow_snowball_custom = process_text_with_annotations(retrieve_wikipedia_content_with_markers(\"Germany\", category1_keywords)[0], category1_keywords, stop_words=set(stopwords.words('english')), stemmer=snowball_stemmer).lower()\n",
        "test_features_bow_snowball_custom = extract_features_preprocessed_bow_custom(test_text_bow_snowball_custom)\n",
        "classification_bow_snowball_custom = naive_bayes_classifier_bow_snowball_custom.classify(test_features_bow_snowball_custom)\n",
        "\n",
        "print(f\"\\nContent of the Predicted class for the preprocessed text with Snowball stop words and Porter Stemmer for Bag of Words: {classification_bow_snowball_custom}\")\n",
        "\n",
        "test_text_bow_snowball_custom = process_text_with_annotations(retrieve_wikipedia_content_with_markers(\"telecommunication\", category2_keywords)[0], category2_keywords, stop_words=set(stopwords.words('english')), stemmer=snowball_stemmer).lower()\n",
        "test_features_bow_snowball_custom = extract_features_preprocessed_bow_custom(test_text_bow_snowball_custom)\n",
        "classification_bow_snowball_custom = naive_bayes_classifier_bow_snowball_custom.classify(test_features_bow_snowball_custom)\n",
        "\n",
        "print(f\"\\nContent of the Predicted class for the preprocessed text with Snowball stop words and Porter Stemmer for Bag of Words: {classification_bow_snowball_custom}\")\n"
      ],
      "metadata": {
        "colab": {
          "base_uri": "https://localhost:8080/"
        },
        "id": "fWu3_VjNTOQH",
        "outputId": "c67e6f17-af37-4706-a67b-67fdd6e16e25"
      },
      "execution_count": 9,
      "outputs": [
        {
          "output_type": "stream",
          "name": "stdout",
          "text": [
            "\n",
            "Content of the Predicted class for the preprocessed text with Snowball stop words and Porter Stemmer for Bag of Words: Geographical\n",
            "\n",
            "Content of the Predicted class for the preprocessed text with Snowball stop words and Porter Stemmer for Bag of Words: Nongeographical\n"
          ]
        }
      ]
    },
    {
      "cell_type": "code",
      "source": [],
      "metadata": {
        "id": "kNlouRE5vVZo"
      },
      "execution_count": 9,
      "outputs": []
    }
  ]
}